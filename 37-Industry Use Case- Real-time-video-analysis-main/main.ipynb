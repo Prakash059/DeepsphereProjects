{
 "cells": [
  {
   "cell_type": "code",
   "execution_count": null,
   "id": "42078a81-82dc-45a1-a550-fb0c7300415c",
   "metadata": {},
   "outputs": [
    {
     "name": "stdout",
     "output_type": "stream",
     "text": [
      "Producing data\n",
      "Consuming data...\n",
      "Incoming data...\n",
      "Save video: C:/Users/Amrith/Desktop/Real/output/tvShow-1628491443837.avi\n",
      "Incoming data...\n",
      "Save video: C:/Users/Amrith/Desktop/Real/output/tvShow-1628491454564.avi\n",
      "Incoming data...\n",
      "Save video: C:/Users/Amrith/Desktop/Real/output/tvShow-1628491472016.avi\n"
     ]
    }
   ],
   "source": [
    "import videoCollect\n",
    "import videoProcess\n",
    "\n",
    "\n",
    "topic = 'videoframe'\n",
    "videoId = 'tvShow'\n",
    "\n",
    "# 1. Collect Data\n",
    "videoCollect.collect(topic, videoId)\n",
    "\n",
    "# 2. Process Data\n",
    "videoProcess.process(topic)\n"
   ]
  },
  {
   "cell_type": "code",
   "execution_count": null,
   "id": "6a8b449a-aa0b-4170-a24f-bd205471906c",
   "metadata": {},
   "outputs": [],
   "source": []
  },
  {
   "cell_type": "code",
   "execution_count": null,
   "id": "ad4cab87-8392-4fe5-b313-93c89190421c",
   "metadata": {},
   "outputs": [],
   "source": []
  }
 ],
 "metadata": {
  "kernelspec": {
   "display_name": "Python 3",
   "language": "python",
   "name": "python3"
  },
  "language_info": {
   "codemirror_mode": {
    "name": "ipython",
    "version": 3
   },
   "file_extension": ".py",
   "mimetype": "text/x-python",
   "name": "python",
   "nbconvert_exporter": "python",
   "pygments_lexer": "ipython3",
   "version": "3.7.11"
  }
 },
 "nbformat": 4,
 "nbformat_minor": 5
}
